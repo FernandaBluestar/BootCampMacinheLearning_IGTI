{
 "cells": [
  {
   "cell_type": "markdown",
   "metadata": {},
   "source": [
    "# Bootcamp - Analista de Machine Learning - IGIT\n",
    "##Seleção de Modelos de Aprendizado de Máquina",
    "\n",
    "# Trabalho Prático- O dataset IRIS\n",
    "## Enunciado\n",
    "O conjunto de dados IRIS talvez seja o mais clássico dos conjuntos de testes de algoritmos de classificação. \n",
    "Ele divide amostras de plantas em três espécies diferentes e tem, como features, a altura e largura de duas partes da planta: a sépala e as pétalas.\n",
    "\n",
    "Neste trabalho você deve classificar esse conjunto de dados com pelo menos dois algoritmos. Você deverá analisá-los segundo as métricas de qualidade que julgar relevantes, e utilizar técnicas de busca de hiperparâmetros e validação cruzada para tornar seus resultados mais robustos.\n",
    "\n",
    "__Fonte:__ http://scikit-learn.org/stable/modules/generated/sklearn.datasets.load_iris.html\n",
    "\n",
    "__Observação:__ gerar gráficos que expliquem e ilustrem o seu problema não é parte obrigatória da resolução do \n",
    "trabalho, mas é um treino bastante recomendado. \n",
    "Além disso, __será necessário consultar a documentação do scikit-learn__ para fazer esse trabalho. Busque por “algoritmos de classificação” e pelos códigos mostrados durante as aulas interativas. Saber consultar documentações é uma habilidade importante de quem trabalha com Aprendizado de Máquina, e é isso que pretendemos desenvolver aqui!\n",
    "\n",
    "\n"
   ]
  },
  {
   "cell_type": "code",
   "execution_count": 1,
   "metadata": {},
   "outputs": [],
   "source": [
    "import numpy as np \n",
    "import pandas as pd\n",
    "from sklearn import datasets\n",
    "from sklearn.decomposition import PCA\n",
    "from sklearn.model_selection import train_test_split,GridSearchCV,cross_val_score # importando biblioteca para realizar split dos dados\n",
    "from sklearn.neighbors import KNeighborsClassifier # importando biblitoteca para aplicar algoritmo KNN\n",
    "from sklearn.metrics import plot_confusion_matrix # importando biblioteca para plotar matriz de confusao\n",
    "from sklearn.metrics import classification_report # importando funcao para aplicar metrica de classificacao\n",
    "from sklearn.metrics import accuracy_score, recall_score, precision_score # importando funcao aplicar metricas kNN\n",
    "from sklearn.ensemble import RandomForestClassifier #importando biblitoteca para aplicar algoritmo Randon Forest\n"
   ]
  },
  {
   "cell_type": "code",
   "execution_count": 2,
   "metadata": {},
   "outputs": [],
   "source": [
    "#Carregando dataset iris\n",
    "iris = datasets.load_iris();"
   ]
  },
  {
   "cell_type": "code",
   "execution_count": 3,
   "metadata": {},
   "outputs": [
    {
     "data": {
      "text/plain": [
       "array(['setosa', 'versicolor', 'virginica'], dtype='<U10')"
      ]
     },
     "execution_count": 3,
     "metadata": {},
     "output_type": "execute_result"
    }
   ],
   "source": [
    "#Identificando todas as classes\n",
    "iris.target_names"
   ]
  },
  {
   "cell_type": "code",
   "execution_count": 4,
   "metadata": {},
   "outputs": [],
   "source": [
    "#Convertendo dataset em dataframe\n",
    "\n",
    "dtIris = pd.DataFrame({'sepal_length(cm)':iris.data[:,0],'sepal_width(cm)' :iris.data[:,1],'petal_length(cm)':iris.data[:,2],'petal_width(cm)':iris.data[:,3],'target':iris.target})\n",
    "#dtIris = pd.DataFrame({'sepal_length':iris.data[:,0],'sepal_width' :iris.data[:,1],'species':iris.target})"
   ]
  },
  {
   "cell_type": "code",
   "execution_count": 5,
   "metadata": {},
   "outputs": [
    {
     "data": {
      "text/html": [
       "<div>\n",
       "<style scoped>\n",
       "    .dataframe tbody tr th:only-of-type {\n",
       "        vertical-align: middle;\n",
       "    }\n",
       "\n",
       "    .dataframe tbody tr th {\n",
       "        vertical-align: top;\n",
       "    }\n",
       "\n",
       "    .dataframe thead th {\n",
       "        text-align: right;\n",
       "    }\n",
       "</style>\n",
       "<table border=\"1\" class=\"dataframe\">\n",
       "  <thead>\n",
       "    <tr style=\"text-align: right;\">\n",
       "      <th></th>\n",
       "      <th>sepal_length(cm)</th>\n",
       "      <th>sepal_width(cm)</th>\n",
       "      <th>petal_length(cm)</th>\n",
       "      <th>petal_width(cm)</th>\n",
       "      <th>target</th>\n",
       "    </tr>\n",
       "  </thead>\n",
       "  <tbody>\n",
       "    <tr>\n",
       "      <th>0</th>\n",
       "      <td>5.1</td>\n",
       "      <td>3.5</td>\n",
       "      <td>1.4</td>\n",
       "      <td>0.2</td>\n",
       "      <td>0</td>\n",
       "    </tr>\n",
       "    <tr>\n",
       "      <th>1</th>\n",
       "      <td>4.9</td>\n",
       "      <td>3.0</td>\n",
       "      <td>1.4</td>\n",
       "      <td>0.2</td>\n",
       "      <td>0</td>\n",
       "    </tr>\n",
       "    <tr>\n",
       "      <th>2</th>\n",
       "      <td>4.7</td>\n",
       "      <td>3.2</td>\n",
       "      <td>1.3</td>\n",
       "      <td>0.2</td>\n",
       "      <td>0</td>\n",
       "    </tr>\n",
       "    <tr>\n",
       "      <th>3</th>\n",
       "      <td>4.6</td>\n",
       "      <td>3.1</td>\n",
       "      <td>1.5</td>\n",
       "      <td>0.2</td>\n",
       "      <td>0</td>\n",
       "    </tr>\n",
       "    <tr>\n",
       "      <th>4</th>\n",
       "      <td>5.0</td>\n",
       "      <td>3.6</td>\n",
       "      <td>1.4</td>\n",
       "      <td>0.2</td>\n",
       "      <td>0</td>\n",
       "    </tr>\n",
       "  </tbody>\n",
       "</table>\n",
       "</div>"
      ],
      "text/plain": [
       "   sepal_length(cm)  sepal_width(cm)  petal_length(cm)  petal_width(cm)  \\\n",
       "0               5.1              3.5               1.4              0.2   \n",
       "1               4.9              3.0               1.4              0.2   \n",
       "2               4.7              3.2               1.3              0.2   \n",
       "3               4.6              3.1               1.5              0.2   \n",
       "4               5.0              3.6               1.4              0.2   \n",
       "\n",
       "   target  \n",
       "0       0  \n",
       "1       0  \n",
       "2       0  \n",
       "3       0  \n",
       "4       0  "
      ]
     },
     "execution_count": 5,
     "metadata": {},
     "output_type": "execute_result"
    }
   ],
   "source": [
    "dtIris.head()"
   ]
  },
  {
   "cell_type": "code",
   "execution_count": 39,
   "metadata": {},
   "outputs": [],
   "source": [
    "# Definindo as features.\n",
    "X = iris.data[:, :4]\n",
    "y = iris.target"
   ]
  },
  {
   "cell_type": "code",
   "execution_count": 40,
   "metadata": {},
   "outputs": [],
   "source": [
    "#Realizando split dos dados para 70% treino and 30% teste\n",
    "X_train, X_test, y_train, y_test = train_test_split(X, y, test_size=0.3)"
   ]
  },
  {
   "cell_type": "code",
   "execution_count": 41,
   "metadata": {},
   "outputs": [
    {
     "data": {
      "text/plain": [
       "{'algorithm': 'auto',\n",
       " 'leaf_size': 30,\n",
       " 'metric': 'minkowski',\n",
       " 'metric_params': None,\n",
       " 'n_jobs': None,\n",
       " 'n_neighbors': 5,\n",
       " 'p': 2,\n",
       " 'weights': 'uniform'}"
      ]
     },
     "execution_count": 41,
     "metadata": {},
     "output_type": "execute_result"
    }
   ],
   "source": [
    "#Realizando aplicacao do modelo KNN\n",
    "\n",
    "# criando instancia do modelo\n",
    "mode_kn= KNeighborsClassifier()\n",
    "# Aplicando treinamento do modelo\n",
    "mode_kn.fit(X_train, y_train) \n",
    "# Exibindo os paramentos gerado no modelo\n",
    "mode_kn.get_params ()"
   ]
  },
  {
   "cell_type": "code",
   "execution_count": 42,
   "metadata": {},
   "outputs": [
    {
     "name": "stdout",
     "output_type": "stream",
     "text": [
      "[1 0 0 1 0 2 2 1 0 1 2 2 1 0 2 0 2 2 2 0 2 1 1 0 1 2 2 2 1 2 0 1 1 1 0 0 2\n",
      " 1 2 0 1 2 1 1 2]\n"
     ]
    }
   ],
   "source": [
    "# aplicando previsao do modelo KNN\n",
    "pred_mode_kn = mode_kn.predict(X_test)\n",
    "print(pred_mode_kn)"
   ]
  },
  {
   "cell_type": "markdown",
   "metadata": {},
   "source": [
    "__1 - O problema apresentado é de qual tipo?\n",
    "Qual dos algoritmos abaixo não seria adequado para resolver o problema?__\n",
    "\n",
    "__R:__ Classificação single label.\n",
    "\n",
    "\n",
    "\n",
    "__2 - Qual dos algoritmos abaixo não seria adequado para resolver o problema?__\n",
    "\n",
    "__R__: sklearn.linear_model.LinearRegression. \n",
    "\n",
    "\n",
    "__4- Relacionado ao algoritmo sklearn.neighbors.KNeighborsClassifier, para o parâmetro “algorithm”, o que podemos afirmar acerca de uma potencial otimização desse hiperparâmetro?__\n",
    "\n",
    "__R:__ Temos até quatro valores para a otimização explorar. \n"
   ]
  },
  {
   "cell_type": "markdown",
   "metadata": {},
   "source": [
    "__4 - Quantas classes o dataset do trabalho tem?__\n",
    "\n",
    "__R__: Três"
   ]
  },
  {
   "cell_type": "code",
   "execution_count": 43,
   "metadata": {},
   "outputs": [
    {
     "name": "stdout",
     "output_type": "stream",
     "text": [
      "['setosa' 'versicolor' 'virginica']\n"
     ]
    }
   ],
   "source": [
    "print(iris.target_names)"
   ]
  },
  {
   "cell_type": "markdown",
   "metadata": {},
   "source": [
    "__5 - Qual é o total de amostras que o dataset possui?__\n",
    "\n",
    "__R:__ 150\n"
   ]
  },
  {
   "cell_type": "code",
   "execution_count": 44,
   "metadata": {},
   "outputs": [
    {
     "data": {
      "text/plain": [
       "150"
      ]
     },
     "execution_count": 44,
     "metadata": {},
     "output_type": "execute_result"
    }
   ],
   "source": [
    "len(iris.data)"
   ]
  },
  {
   "cell_type": "markdown",
   "metadata": {},
   "source": [
    "__6 - Para o algoritmo sklearn.ensemble.RandomForestClassifier, \n",
    "a sintaxe para chamar o algoritmo GridSearchCV sobre o intervalo de “5 a 300” do parâmetro “n_estimators”, \n",
    "para otimização, seria:__\n"
   ]
  },
  {
   "cell_type": "markdown",
   "metadata": {},
   "source": [
    "__R:__ params = {'n_estimators': (5, 300)}"
   ]
  },
  {
   "cell_type": "code",
   "execution_count": 45,
   "metadata": {},
   "outputs": [
    {
     "data": {
      "text/plain": [
       "{'bootstrap': True,\n",
       " 'ccp_alpha': 0.0,\n",
       " 'class_weight': None,\n",
       " 'criterion': 'gini',\n",
       " 'max_depth': None,\n",
       " 'max_features': 'auto',\n",
       " 'max_leaf_nodes': None,\n",
       " 'max_samples': None,\n",
       " 'min_impurity_decrease': 0.0,\n",
       " 'min_impurity_split': None,\n",
       " 'min_samples_leaf': 1,\n",
       " 'min_samples_split': 2,\n",
       " 'min_weight_fraction_leaf': 0.0,\n",
       " 'n_estimators': 100,\n",
       " 'n_jobs': None,\n",
       " 'oob_score': False,\n",
       " 'random_state': None,\n",
       " 'verbose': 0,\n",
       " 'warm_start': False}"
      ]
     },
     "execution_count": 45,
     "metadata": {},
     "output_type": "execute_result"
    }
   ],
   "source": [
    "#Criando istancia do modelo RandomForestClassifier\n",
    "mode_randFclass = RandomForestClassifier()\n",
    "# Treinando modelo RandomForestClassifier\n",
    "mode_randFclass.fit(X_train, y_train) \n",
    "# Exibindo os paramentos gerado no modelo RandomForestClassifier\n",
    "mode_randFclass.get_params()"
   ]
  },
  {
   "cell_type": "code",
   "execution_count": 49,
   "metadata": {},
   "outputs": [
    {
     "data": {
      "text/plain": [
       "{'min_samples_split': 2, 'n_estimators': 5}"
      ]
     },
     "execution_count": 49,
     "metadata": {},
     "output_type": "execute_result"
    }
   ],
   "source": [
    "#Aplicando Hiperparametros RandomForestClassifier \n",
    "pr = {'min_samples_split':(2,6), 'n_estimators': (5, 300)}\n",
    "mode_randFclass_hp = GridSearchCV(mode_randFclass, pr,cv=10)\n",
    "mode_randFclass_hp.fit(X,y)\n",
    "mode_randFclass_hp.best_params_"
   ]
  },
  {
   "cell_type": "markdown",
   "metadata": {},
   "source": [
    "__7 - Qual é a métrica de qualidade mais adequada para a resolução desse problema?__\n",
    "\n",
    "__R:__ Acurácia"
   ]
  },
  {
   "cell_type": "code",
   "execution_count": 50,
   "metadata": {},
   "outputs": [
    {
     "name": "stdout",
     "output_type": "stream",
     "text": [
      "Acurácia:  0.9333333333333333\n",
      "Recall:    0.9333333333333333\n",
      "Precisão:  0.9345588235294118\n"
     ]
    }
   ],
   "source": [
    "#Aplicando predição do modelo RandomForestClassifier\n",
    "pred_mode_randFclass = mode_randFclass.predict(X_test)\n",
    "\n",
    "# Aplicando metrica no modelo Random Forest\n",
    "random_acuracia = accuracy_score(y_test, pred_mode_randFclass)\n",
    "random_recall = recall_score(y_test, pred_mode_randFclass, average='weighted')\n",
    "random_precisao = precision_score(y_test, pred_mode_randFclass, average='weighted')\n",
    "print('Acurácia: ',random_acuracia) \n",
    "print('Recall:   ',random_recall)\n",
    "print('Precisão: ',random_precisao)"
   ]
  },
  {
   "cell_type": "markdown",
   "metadata": {},
   "source": [
    "__8 - Qual técnica de validação cruzada seria mais computacionalmente eficiente para resolver esse problema?__\n",
    "\n",
    "__R:__ Divisão treino-teste. "
   ]
  },
  {
   "cell_type": "code",
   "execution_count": 51,
   "metadata": {},
   "outputs": [
    {
     "data": {
      "text/plain": [
       "KNeighborsClassifier(algorithm='auto', leaf_size=30, metric='minkowski',\n",
       "                     metric_params=None, n_jobs=None, n_neighbors=5, p=2,\n",
       "                     weights='uniform')"
      ]
     },
     "execution_count": 51,
     "metadata": {},
     "output_type": "execute_result"
    }
   ],
   "source": [
    "#Criando instancia do modelo KNeighborsClassifier\n",
    "mode_k = KNeighborsClassifier()\n",
    "#Realizando treinamento do modelo KNeighborsClassifier\n",
    "mode_k.fit(X_train, y_train)"
   ]
  },
  {
   "cell_type": "code",
   "execution_count": 52,
   "metadata": {},
   "outputs": [],
   "source": [
    "#Aplicando predição do modelo KNeighborsClassifier\n",
    "pred_k = mode_k.predict(X_test)"
   ]
  },
  {
   "cell_type": "code",
   "execution_count": 53,
   "metadata": {},
   "outputs": [
    {
     "name": "stdout",
     "output_type": "stream",
     "text": [
      "Validação cruzada KNN:     [0.96666667 1.         0.93333333 0.96666667 1.        ]\n",
      "Validação cruzada Random:  [0.96666667 0.96666667 0.93333333 0.96666667 1.        ]\n"
     ]
    }
   ],
   "source": [
    "#Aplicando validacao cruzada no modelos KNeighborsClassifier e RandomForestClassifier\n",
    "knn_cross = cross_val_score(mode_k, X, y)\n",
    "randcl_cross = cross_val_score(mode_randFclass, X, y)\n",
    "print('Validação cruzada KNN:    ', knn_cross)\n",
    "print('Validação cruzada Random: ', randcl_cross)"
   ]
  },
  {
   "cell_type": "code",
   "execution_count": 54,
   "metadata": {},
   "outputs": [
    {
     "name": "stdout",
     "output_type": "stream",
     "text": [
      "Média KNeighborsClassifier   : 5.0 7\n",
      "Média RandomForestClassifier:  5.0 7\n"
     ]
    }
   ],
   "source": [
    "#Calculando a média das validacoes cruzadas\n",
    "soma_knn_cross = 0\n",
    "for a in knn_cross:\n",
    "    soma_knn_cross += a\n",
    "    \n",
    "soma_randcl_cross = 0\n",
    "for b in randcl_cross:\n",
    "    soma_randcl_cross += b\n",
    "    \n",
    "print('Média KNeighborsClassifier   :',round((soma_knn_cross.mean())),7)\n",
    "print('Média RandomForestClassifier: ',round((soma_randcl_cross.mean())),7)"
   ]
  },
  {
   "cell_type": "markdown",
   "metadata": {},
   "source": [
    "__9 - Com quantos parâmetros o algoritmo de busca exaustiva em grid, GridSearchCV, pode funcionar?__\n",
    "\n",
    "__R:__ Quantos forem necessários. "
   ]
  },
  {
   "cell_type": "markdown",
   "metadata": {},
   "source": [
    "__10 - Para rodar, sobre o meu algoritmo, \n",
    "a otimização de hiperparâmetros e a validação cruzada, é necessário que eu:__\n",
    "\n",
    "__R:__ Rode o GridSearchCV. "
   ]
  },
  {
   "cell_type": "markdown",
   "metadata": {},
   "source": [
    "__11 - A validação cruzada…__\n",
    "\n",
    "__R:__ Simula uma situação em que meu modelo está diante de dados desconhecidos para auferir \n",
    "seu provável desempenho quando diante do mundo real."
   ]
  },
  {
   "cell_type": "markdown",
   "metadata": {},
   "source": [
    "__12 - A otimização de hiperparâmetros:__\n",
    "\n",
    "__R:__ Encontra a melhor (ou uma das melhores) configuração para rodar determinado algoritmo que gerará um modelo. \n"
   ]
  },
  {
   "cell_type": "markdown",
   "metadata": {},
   "source": [
    "__13 - A validação cruzada:__\n",
    "\n",
    "__R:__ Funciona para quaisquer tipos de modelos. "
   ]
  },
  {
   "cell_type": "markdown",
   "metadata": {},
   "source": [
    "__14 -  A otimização de hiperparâmetros...__\n",
    "\n",
    "__R:__ Funciona para quaisquer tipos de modelos. "
   ]
  },
  {
   "cell_type": "markdown",
   "metadata": {},
   "source": [
    "__15 -  Uma vez gerado e colocado em produção, o seu modelo…__\n",
    "\n",
    "__R:__ Pode ser reavaliado no futuro, quando diante de novos dados ou situações problema. \n"
   ]
  },
  {
   "cell_type": "code",
   "execution_count": null,
   "metadata": {},
   "outputs": [],
   "source": []
  }
 ],
 "metadata": {
  "kernelspec": {
   "display_name": "Python 3",
   "language": "python",
   "name": "python3"
  },
  "language_info": {
   "codemirror_mode": {
    "name": "ipython",
    "version": 3
   },
   "file_extension": ".py",
   "mimetype": "text/x-python",
   "name": "python",
   "nbconvert_exporter": "python",
   "pygments_lexer": "ipython3",
   "version": "3.7.6"
  }
 },
 "nbformat": 4,
 "nbformat_minor": 4
}
