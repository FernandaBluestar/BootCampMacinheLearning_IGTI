{
 "cells": [
  {
   "cell_type": "markdown",
   "metadata": {},
   "source": [
    "# Módulo 1 - Fundamento de Machine Learning\n",
    "## Desafio\n",
    "\n",
    "## Objetivos\n",
    "\n",
    "__Exercitar os seguintes conceitos trabalhados no Módulo__\n",
    "\n",
    "- Análise exploratória dos dados (EDA - Exploratory Data Analysis)\n",
    "- Preparação dos dados\n",
    "- Análise de modelos\n",
    "\n",
    "__Enunciado__\n",
    "\n",
    "Neste desafio serão abordados todos os conceitos apresentados durante a disciplina \n",
    "Fundamentos de Machine Learning (FAM). \n",
    "\n",
    "Para este desafio será utilizada uma versão modificada do dataset “Bike Sharing” \n",
    "disponível no [UCI Machine Learning Repository](https://archive.ics.uci.edu/ml/datasets/Bike+Sharing+Dataset).. \n",
    "\n",
    "Esse dataset contém um conjunto de informações sobre o compartilhamento de bicicletas. \n",
    "Existem informações sobre as condições climáticas e dados sobre a locação das bicicletas. \n",
    "Para este desafio é necessário baixar o arquivo “comp_bikes_mod.csv” presente neste \n",
    "[link](https://drive.google.com/file/d/1gUV6yHZfHWBQoHxApg6VZ85oVKgIlxx4/view)."
   ]
  },
  {
   "cell_type": "code",
   "execution_count": 70,
   "metadata": {},
   "outputs": [],
   "source": [
    "import pandas as pd\n",
    "import numpy as np\n",
    "import matplotlib.pyplot as plt\n",
    "import seaborn as sns\n",
    "from sklearn import metrics\n",
    "from sklearn.linear_model import LinearRegression\n",
    "from sklearn.tree import DecisionTreeRegressor\n",
    "import warnings\n",
    "warnings.filterwarnings('ignore')\n",
    "%matplotlib inline"
   ]
  },
  {
   "cell_type": "code",
   "execution_count": 24,
   "metadata": {},
   "outputs": [],
   "source": [
    "dt_frame = pd.read_csv('dataset/comp_bikes_mod.csv')"
   ]
  },
  {
   "cell_type": "code",
   "execution_count": 14,
   "metadata": {},
   "outputs": [
    {
     "data": {
      "text/html": [
       "<div>\n",
       "<style scoped>\n",
       "    .dataframe tbody tr th:only-of-type {\n",
       "        vertical-align: middle;\n",
       "    }\n",
       "\n",
       "    .dataframe tbody tr th {\n",
       "        vertical-align: top;\n",
       "    }\n",
       "\n",
       "    .dataframe thead th {\n",
       "        text-align: right;\n",
       "    }\n",
       "</style>\n",
       "<table border=\"1\" class=\"dataframe\">\n",
       "  <thead>\n",
       "    <tr style=\"text-align: right;\">\n",
       "      <th></th>\n",
       "      <th>instant</th>\n",
       "      <th>dteday</th>\n",
       "      <th>season</th>\n",
       "      <th>yr</th>\n",
       "      <th>mnth</th>\n",
       "      <th>hr</th>\n",
       "      <th>holiday</th>\n",
       "      <th>weekday</th>\n",
       "      <th>workingday</th>\n",
       "      <th>weathersit</th>\n",
       "      <th>temp</th>\n",
       "      <th>atemp</th>\n",
       "      <th>hum</th>\n",
       "      <th>windspeed</th>\n",
       "      <th>casual</th>\n",
       "      <th>registered</th>\n",
       "      <th>cnt</th>\n",
       "    </tr>\n",
       "  </thead>\n",
       "  <tbody>\n",
       "    <tr>\n",
       "      <th>0</th>\n",
       "      <td>1.0</td>\n",
       "      <td>NaN</td>\n",
       "      <td>1.0</td>\n",
       "      <td>0.0</td>\n",
       "      <td>1.0</td>\n",
       "      <td>0.0</td>\n",
       "      <td>0.0</td>\n",
       "      <td>6.0</td>\n",
       "      <td>0.0</td>\n",
       "      <td>1.0</td>\n",
       "      <td>NaN</td>\n",
       "      <td>0.2879</td>\n",
       "      <td>0.81</td>\n",
       "      <td>0.0</td>\n",
       "      <td>3.0</td>\n",
       "      <td>13.0</td>\n",
       "      <td>16.0</td>\n",
       "    </tr>\n",
       "    <tr>\n",
       "      <th>1</th>\n",
       "      <td>2.0</td>\n",
       "      <td>2011-01-01</td>\n",
       "      <td>1.0</td>\n",
       "      <td>0.0</td>\n",
       "      <td>1.0</td>\n",
       "      <td>1.0</td>\n",
       "      <td>0.0</td>\n",
       "      <td>6.0</td>\n",
       "      <td>0.0</td>\n",
       "      <td>NaN</td>\n",
       "      <td>0.22</td>\n",
       "      <td>0.2727</td>\n",
       "      <td>0.80</td>\n",
       "      <td>0.0</td>\n",
       "      <td>8.0</td>\n",
       "      <td>32.0</td>\n",
       "      <td>40.0</td>\n",
       "    </tr>\n",
       "    <tr>\n",
       "      <th>2</th>\n",
       "      <td>3.0</td>\n",
       "      <td>2011-01-01</td>\n",
       "      <td>1.0</td>\n",
       "      <td>0.0</td>\n",
       "      <td>1.0</td>\n",
       "      <td>2.0</td>\n",
       "      <td>0.0</td>\n",
       "      <td>6.0</td>\n",
       "      <td>0.0</td>\n",
       "      <td>1.0</td>\n",
       "      <td>0.22</td>\n",
       "      <td>0.2727</td>\n",
       "      <td>0.80</td>\n",
       "      <td>0.0</td>\n",
       "      <td>5.0</td>\n",
       "      <td>27.0</td>\n",
       "      <td>32.0</td>\n",
       "    </tr>\n",
       "    <tr>\n",
       "      <th>3</th>\n",
       "      <td>4.0</td>\n",
       "      <td>2011-01-01</td>\n",
       "      <td>1.0</td>\n",
       "      <td>0.0</td>\n",
       "      <td>1.0</td>\n",
       "      <td>3.0</td>\n",
       "      <td>0.0</td>\n",
       "      <td>6.0</td>\n",
       "      <td>0.0</td>\n",
       "      <td>1.0</td>\n",
       "      <td>0.24</td>\n",
       "      <td>0.2879</td>\n",
       "      <td>0.75</td>\n",
       "      <td>0.0</td>\n",
       "      <td>3.0</td>\n",
       "      <td>10.0</td>\n",
       "      <td>13.0</td>\n",
       "    </tr>\n",
       "    <tr>\n",
       "      <th>4</th>\n",
       "      <td>5.0</td>\n",
       "      <td>2011-01-01</td>\n",
       "      <td>1.0</td>\n",
       "      <td>0.0</td>\n",
       "      <td>1.0</td>\n",
       "      <td>4.0</td>\n",
       "      <td>0.0</td>\n",
       "      <td>6.0</td>\n",
       "      <td>NaN</td>\n",
       "      <td>1.0</td>\n",
       "      <td>0.24</td>\n",
       "      <td>0.2879</td>\n",
       "      <td>0.75</td>\n",
       "      <td>0.0</td>\n",
       "      <td>0.0</td>\n",
       "      <td>1.0</td>\n",
       "      <td>1.0</td>\n",
       "    </tr>\n",
       "  </tbody>\n",
       "</table>\n",
       "</div>"
      ],
      "text/plain": [
       "   instant      dteday  season   yr  mnth   hr  holiday  weekday  workingday  \\\n",
       "0      1.0         NaN     1.0  0.0   1.0  0.0      0.0      6.0         0.0   \n",
       "1      2.0  2011-01-01     1.0  0.0   1.0  1.0      0.0      6.0         0.0   \n",
       "2      3.0  2011-01-01     1.0  0.0   1.0  2.0      0.0      6.0         0.0   \n",
       "3      4.0  2011-01-01     1.0  0.0   1.0  3.0      0.0      6.0         0.0   \n",
       "4      5.0  2011-01-01     1.0  0.0   1.0  4.0      0.0      6.0         NaN   \n",
       "\n",
       "   weathersit  temp   atemp   hum  windspeed  casual  registered   cnt  \n",
       "0         1.0   NaN  0.2879  0.81        0.0     3.0        13.0  16.0  \n",
       "1         NaN  0.22  0.2727  0.80        0.0     8.0        32.0  40.0  \n",
       "2         1.0  0.22  0.2727  0.80        0.0     5.0        27.0  32.0  \n",
       "3         1.0  0.24  0.2879  0.75        0.0     3.0        10.0  13.0  \n",
       "4         1.0  0.24  0.2879  0.75        0.0     0.0         1.0   1.0  "
      ]
     },
     "execution_count": 14,
     "metadata": {},
     "output_type": "execute_result"
    }
   ],
   "source": [
    "dt_frame.head()"
   ]
  },
  {
   "cell_type": "markdown",
   "metadata": {},
   "source": [
    "__1 - No dataset utilizado para o desafio, quantas instâncias e atributos existem, respectivamente?__\n",
    "\n",
    "__R:__ 17379, 17"
   ]
  },
  {
   "cell_type": "code",
   "execution_count": 32,
   "metadata": {},
   "outputs": [
    {
     "data": {
      "text/plain": [
       "(17379, 17)"
      ]
     },
     "execution_count": 32,
     "metadata": {},
     "output_type": "execute_result"
    }
   ],
   "source": [
    "dt_frame.shape"
   ]
  },
  {
   "cell_type": "markdown",
   "metadata": {},
   "source": [
    "__2 - Quantos tipos diferentes de dados existem no dataset do desafio?__\n",
    "\n",
    "__R:__ 2"
   ]
  },
  {
   "cell_type": "code",
   "execution_count": 34,
   "metadata": {},
   "outputs": [
    {
     "name": "stdout",
     "output_type": "stream",
     "text": [
      "<class 'pandas.core.frame.DataFrame'>\n",
      "RangeIndex: 17379 entries, 0 to 17378\n",
      "Data columns (total 17 columns):\n",
      " #   Column      Non-Null Count  Dtype  \n",
      "---  ------      --------------  -----  \n",
      " 0   instant     15641 non-null  float64\n",
      " 1   dteday      15641 non-null  object \n",
      " 2   season      15641 non-null  float64\n",
      " 3   yr          15641 non-null  float64\n",
      " 4   mnth        15641 non-null  float64\n",
      " 5   hr          15641 non-null  float64\n",
      " 6   holiday     15641 non-null  float64\n",
      " 7   weekday     15641 non-null  float64\n",
      " 8   workingday  15641 non-null  float64\n",
      " 9   weathersit  15641 non-null  float64\n",
      " 10  temp        15641 non-null  float64\n",
      " 11  atemp       15641 non-null  float64\n",
      " 12  hum         15641 non-null  float64\n",
      " 13  windspeed   15641 non-null  float64\n",
      " 14  casual      15641 non-null  float64\n",
      " 15  registered  15641 non-null  float64\n",
      " 16  cnt         15641 non-null  float64\n",
      "dtypes: float64(16), object(1)\n",
      "memory usage: 2.3+ MB\n"
     ]
    }
   ],
   "source": [
    "dt_frame.info()"
   ]
  },
  {
   "cell_type": "markdown",
   "metadata": {},
   "source": [
    "__3 - Qual é a proporção (em %) de valores nulos existente na coluna \"temp\" (temperatura ambiente normalizada)?__\n",
    "__R:__ 10%\n"
   ]
  },
  {
   "cell_type": "code",
   "execution_count": 36,
   "metadata": {},
   "outputs": [
    {
     "name": "stdout",
     "output_type": "stream",
     "text": [
      "10.0 %\n"
     ]
    }
   ],
   "source": [
    "notas_nulas = data_set.isna().sum()\n",
    "notas_nulas[notas_nulas > 0]\n",
    "p = (dt_frame['temp'].isna().sum()/len(dt_frame['temp']))*100\n",
    "print(round(p),'%')"
   ]
  },
  {
   "cell_type": "markdown",
   "metadata": {},
   "source": [
    "__4 - Após retirar as linhas que contém valores nulos para a coluna \"dteday\", passamos a contar com quantas instancias e atributos, respectivamente?__\n",
    "\n",
    "__R:__ 15641,17"
   ]
  },
  {
   "cell_type": "code",
   "execution_count": 40,
   "metadata": {},
   "outputs": [
    {
     "data": {
      "text/plain": [
       "(15641, 17)"
      ]
     },
     "execution_count": 40,
     "metadata": {},
     "output_type": "execute_result"
    }
   ],
   "source": [
    "dt_frame= dt_frame.dropna(axis=0, how='all', thresh=None, inplace=False)\n",
    "dt_frame['dteday']\n",
    "dt_frame.shape"
   ]
  },
  {
   "cell_type": "markdown",
   "metadata": {},
   "source": [
    "__5 - Considere o dataset após a retirada das linhas que continham valores nulos para a coluna \"dteday\". Qual é o valor médio para os dados da coluna \"temp\" (temperatura ambiente normalizada)?__\n",
    "\n",
    "__R:__ 0,496"
   ]
  },
  {
   "cell_type": "code",
   "execution_count": 42,
   "metadata": {},
   "outputs": [
    {
     "data": {
      "text/plain": [
       "0.4969259206597582"
      ]
     },
     "execution_count": 42,
     "metadata": {},
     "output_type": "execute_result"
    }
   ],
   "source": [
    "dt_frame['temp'].mean()"
   ]
  },
  {
   "cell_type": "markdown",
   "metadata": {},
   "source": [
    "__6 - Considere o dataset após a retirada das linhas que continham valores nulos para a coluna \"dteday\". Qual é o desvio padrão para os dados da coluna \"windspeed\" (velocidade do vento normalizada)?__\n",
    "\n",
    "__R:__ 0,122"
   ]
  },
  {
   "cell_type": "code",
   "execution_count": 43,
   "metadata": {},
   "outputs": [
    {
     "data": {
      "text/plain": [
       "0.12230930508286268"
      ]
     },
     "execution_count": 43,
     "metadata": {},
     "output_type": "execute_result"
    }
   ],
   "source": [
    "dt_frame['windspeed'].std()"
   ]
  },
  {
   "cell_type": "markdown",
   "metadata": {},
   "source": [
    "__7 - Considere o dataset após a retirada das linhas que continham valores nulos para a coluna \"dteday\". Transforme a coluna \"season\" em valores categóricos. Quantas categorias diferentes existem?__\n",
    "\n",
    "__R:__ 4"
   ]
  },
  {
   "cell_type": "code",
   "execution_count": 44,
   "metadata": {},
   "outputs": [
    {
     "data": {
      "text/html": [
       "<div>\n",
       "<style scoped>\n",
       "    .dataframe tbody tr th:only-of-type {\n",
       "        vertical-align: middle;\n",
       "    }\n",
       "\n",
       "    .dataframe tbody tr th {\n",
       "        vertical-align: top;\n",
       "    }\n",
       "\n",
       "    .dataframe thead th {\n",
       "        text-align: right;\n",
       "    }\n",
       "</style>\n",
       "<table border=\"1\" class=\"dataframe\">\n",
       "  <thead>\n",
       "    <tr style=\"text-align: right;\">\n",
       "      <th></th>\n",
       "      <th>1.0</th>\n",
       "      <th>2.0</th>\n",
       "      <th>3.0</th>\n",
       "      <th>4.0</th>\n",
       "    </tr>\n",
       "  </thead>\n",
       "  <tbody>\n",
       "    <tr>\n",
       "      <th>1</th>\n",
       "      <td>1</td>\n",
       "      <td>0</td>\n",
       "      <td>0</td>\n",
       "      <td>0</td>\n",
       "    </tr>\n",
       "    <tr>\n",
       "      <th>2</th>\n",
       "      <td>1</td>\n",
       "      <td>0</td>\n",
       "      <td>0</td>\n",
       "      <td>0</td>\n",
       "    </tr>\n",
       "    <tr>\n",
       "      <th>3</th>\n",
       "      <td>1</td>\n",
       "      <td>0</td>\n",
       "      <td>0</td>\n",
       "      <td>0</td>\n",
       "    </tr>\n",
       "    <tr>\n",
       "      <th>4</th>\n",
       "      <td>1</td>\n",
       "      <td>0</td>\n",
       "      <td>0</td>\n",
       "      <td>0</td>\n",
       "    </tr>\n",
       "    <tr>\n",
       "      <th>5</th>\n",
       "      <td>1</td>\n",
       "      <td>0</td>\n",
       "      <td>0</td>\n",
       "      <td>0</td>\n",
       "    </tr>\n",
       "  </tbody>\n",
       "</table>\n",
       "</div>"
      ],
      "text/plain": [
       "   1.0  2.0  3.0  4.0\n",
       "1    1    0    0    0\n",
       "2    1    0    0    0\n",
       "3    1    0    0    0\n",
       "4    1    0    0    0\n",
       "5    1    0    0    0"
      ]
     },
     "execution_count": 44,
     "metadata": {},
     "output_type": "execute_result"
    }
   ],
   "source": [
    "categoricos =  pd.get_dummies(dt_frame['season'])\n",
    "categoricos.head()"
   ]
  },
  {
   "cell_type": "markdown",
   "metadata": {},
   "source": [
    "__8 - Considere o dataset após a retirada das linhas que continham valores nulos para a coluna \"dteday\". Transforme a coluna \"dteday\" no tipo \"datetime\". Qual é a última data presente no dataset ( YYYY-MM-DD)?__\n",
    "\n",
    "__R:__ 2012-12-31 "
   ]
  },
  {
   "cell_type": "code",
   "execution_count": 46,
   "metadata": {},
   "outputs": [
    {
     "data": {
      "text/plain": [
       "17373    2012-12-31\n",
       "17374    2012-12-31\n",
       "17375    2012-12-31\n",
       "17377    2012-12-31\n",
       "17378    2012-12-31\n",
       "Name: dteday, dtype: object"
      ]
     },
     "execution_count": 46,
     "metadata": {},
     "output_type": "execute_result"
    }
   ],
   "source": [
    "dt_frame['new_dteday'] = pd.to_datetime(dt_frame['dteday'])\n",
    "dt_frame['dteday'].tail()"
   ]
  },
  {
   "cell_type": "markdown",
   "metadata": {},
   "source": [
    "__9 - Considere o dataset após a retirada das linhas que continham valores nulos para a coluna \"dteday\". Considerendo o boxplot da variável \"windspeed\" (velocidade do vento) é CORRETO afirmar?__\n",
    "\n",
    "__R:__ Existem possíveis outliers, pois existem marcações (pontos) foras dos limites do boxplot."
   ]
  },
  {
   "cell_type": "code",
   "execution_count": 48,
   "metadata": {},
   "outputs": [
    {
     "data": {
      "image/png": "[encoded data removed]",
      "text/plain": [
       "<Figure size 432x288 with 1 Axes>"
      ]
     },
     "metadata": {
      "needs_background": "light"
     },
     "output_type": "display_data"
    }
   ],
   "source": [
    "dt_frame.boxplot(['windspeed'])\n",
    "dt_frame['windspeed'];"
   ]
  },
  {
   "cell_type": "markdown",
   "metadata": {},
   "source": [
    "__10 - Considere o dataset após a retirada das linhas que continham valores nulos para a coluna \"dteday\". Selecione as colunas \"season\", \"temp\", \"atemp\", \"hum\", \"windspeed\". Plot a matriz de correlação. Sobre as variáveis \"hum\" e \"cnt\" é CORRETO afirmar__\n",
    "\n",
    "__R:__ Possuem baixa correlação linear negativa. "
   ]
  },
  {
   "cell_type": "code",
   "execution_count": 60,
   "metadata": {},
   "outputs": [
    {
     "data": {
      "image/png": "[encoded data removed]",
      "text/plain": [
       "<Figure size 792x576 with 2 Axes>"
      ]
     },
     "metadata": {
      "needs_background": "light"
     },
     "output_type": "display_data"
    }
   ],
   "source": [
    "correlacao = dt_frame[[\"season\", \"temp\", \"atemp\", \"hum\", \"windspeed\", \"cnt\"]].corr()\n",
    "b = plt.subplots(figsize=(11, 8))\n",
    "sns.heatmap(correlacao, annot=True);"
   ]
  },
  {
   "cell_type": "markdown",
   "metadata": {},
   "source": [
    "__11 - Preencha os valores nulos das colunas \"hum\",\"cnt\" e \"casual\" com os valores médios. Utilize as variáveis \"hum\" e \"casual\" como independentes e a \"cnt\" como dependente. Aplique uma regressão linear. Qual o valor de R2? Utilize as entradas como teste.__\n",
    "\n",
    "__R:__ 0.40"
   ]
  },
  {
   "cell_type": "code",
   "execution_count": 75,
   "metadata": {},
   "outputs": [
    {
     "name": "stdout",
     "output_type": "stream",
     "text": [
      "Regrassao:  0.406\n"
     ]
    }
   ],
   "source": [
    "#Subistituindo valor nulos por valor médio de cada coluna\n",
    "dt_frame['hum'].fillna(dt_frame['hum'].mean(), inplace=True)\n",
    "dt_frame['cnt'].fillna(dt_frame['cnt'].mean(), inplace=True)\n",
    "dt_frame['casual'].fillna(dt_frame['casual'].mean(), inplace=True)\n",
    "\n",
    "#Definindo feature e target   \n",
    "feature = dt_frame[['hum','casual']]\n",
    "target = dt_frame[['cnt']]\n",
    "\n",
    "#Criando modelo de regressao linear\n",
    "LinearReg = LinearRegression()\n",
    "\n",
    "#Treinamento de modelo\n",
    "LinearReg.fit(feature,target)\n",
    "\n",
    "#Realizando predição\n",
    "previsao = LinearReg.predict(feature)\n",
    "\n",
    "print('Regrassao: ', round(LinearReg.score(feature,target),3))"
   ]
  },
  {
   "cell_type": "markdown",
   "metadata": {},
   "source": [
    "__12 - Utilize os mesmos dados da questão anterior (\"hum\" e \"casual\" como variáveis independentes e \"cnt\" como variavel dependente). Aplique a árvore de decisão como regressão. Qual é o valor aproximado de R2? Utilize as entradas como teste e valores \"default\".__\n",
    "\n",
    "__R:__ 0,70"
   ]
  },
  {
   "cell_type": "code",
   "execution_count": 78,
   "metadata": {},
   "outputs": [
    {
     "name": "stdout",
     "output_type": "stream",
     "text": [
      "R2  0.7098\n"
     ]
    }
   ],
   "source": [
    "#Criando instancia do modelo DecisionTreeRegressor\n",
    "tree = DecisionTreeRegressor() \n",
    "\n",
    "tree.fit(feature,target)\n",
    "\n",
    "print('R2 ',round(tree.score(feature,target),4))"
   ]
  },
  {
   "cell_type": "markdown",
   "metadata": {},
   "source": [
    "__13 - Comparando os valores de R2 encontrado com a regressão linear e com a árvore de decisão, é CORRETO afirmar:__\n",
    "\n",
    "__R:__ O valor obtido pela árvore de decisão como regressor apresenta maior R2 "
   ]
  },
  {
   "cell_type": "markdown",
   "metadata": {},
   "source": [
    "__14 - Com base na árvore de decisão é CORRETO afirmar:__\n",
    "\n",
    "__R:__ Pode ser utilizada para classificação e regressão."
   ]
  },
  {
   "cell_type": "markdown",
   "metadata": {},
   "source": [
    "__15: Comparando o SVM com a árvore de decisão é CORRETO afirmar:__\n",
    "\n",
    "__R:__ SVM encontra o hiperplano que gera a maior separação entre os dados."
   ]
  },
  {
   "cell_type": "code",
   "execution_count": null,
   "metadata": {},
   "outputs": [],
   "source": []
  }
 ],
 "metadata": {
  "kernelspec": {
   "display_name": "Python 3",
   "language": "python",
   "name": "python3"
  },
  "language_info": {
   "codemirror_mode": {
    "name": "ipython",
    "version": 3
   },
   "file_extension": ".py",
   "mimetype": "text/x-python",
   "name": "python",
   "nbconvert_exporter": "python",
   "pygments_lexer": "ipython3",
   "version": "3.7.6"
  }
 },
 "nbformat": 4,
 "nbformat_minor": 4
}
